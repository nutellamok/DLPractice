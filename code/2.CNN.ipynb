{
  "nbformat": 4,
  "nbformat_minor": 0,
  "metadata": {
    "kernelspec": {
      "display_name": "Python 3",
      "language": "python",
      "name": "python3"
    },
    "language_info": {
      "codemirror_mode": {
        "name": "ipython",
        "version": 3
      },
      "file_extension": ".py",
      "mimetype": "text/x-python",
      "name": "python",
      "nbconvert_exporter": "python",
      "pygments_lexer": "ipython3",
      "version": "3.6.8"
    },
    "colab": {
      "name": "2.CNN.ipynb",
      "provenance": [],
      "collapsed_sections": []
    }
  },
  "cells": [
    {
      "cell_type": "markdown",
      "metadata": {
        "id": "Uv0LL-jyYuSZ",
        "colab_type": "text"
      },
      "source": [
        "## **2. ResNet Implementation**\n",
        "### **Import necessary libraries**"
      ]
    },
    {
      "cell_type": "code",
      "metadata": {
        "id": "8-OtRuryCMLg",
        "colab_type": "code",
        "colab": {}
      },
      "source": [
        "import torch\n",
        "import torch.nn as nn\n",
        "import torch.optim as optim\n",
        "import torch.nn.functional as F\n",
        "import torch.backends.cudnn as cudnn\n",
        "\n",
        "import torchvision\n",
        "import torchvision.transforms as transforms\n",
        "\n",
        "import os\n",
        "import argparse"
      ],
      "execution_count": 0,
      "outputs": []
    },
    {
      "cell_type": "markdown",
      "metadata": {
        "id": "zStHaAhnYzR1",
        "colab_type": "text"
      },
      "source": [
        "### **Download CIFAR-100 dataset**\n",
        "\n"
      ]
    },
    {
      "cell_type": "code",
      "metadata": {
        "id": "bkrMVR7fCMLm",
        "colab_type": "code",
        "colab": {}
      },
      "source": [
        "transform_train = transforms.Compose([\n",
        "    transforms.RandomCrop(32, padding=4),\n",
        "    transforms.RandomHorizontalFlip(),\n",
        "    transforms.RandomRotation(15),\n",
        "    transforms.ToTensor(),\n",
        "    transforms.Normalize((0.5071, 0.4865, 0.4409), (0.26733, 0.2564, 0.2762))\n",
        "])\n",
        "\n",
        "transform_test = transforms.Compose([\n",
        "    transforms.ToTensor(),\n",
        "    transforms.Normalize((0.5089, 0.4874, 0.4419), (0.2683, 0.2574, 0.2771))\n",
        "])\n",
        "\n",
        "trainset = torchvision.datasets.CIFAR100(root='./data/cifar100', train=True, download=True, transform=transform_train)\n",
        "\n",
        "testset = torchvision.datasets.CIFAR100(root='./data/cifar100', train=False, download=True, transform=transform_test)\n",
        "\n",
        "trainloader= torch.utils.data.DataLoader(trainset, batch_size=128, shuffle=True, num_workers=2)\n",
        "testloader = torch.utils.data.DataLoader(testset, batch_size=128, shuffle=True, num_workers=2)"
      ],
      "execution_count": 0,
      "outputs": []
    },
    {
      "cell_type": "markdown",
      "metadata": {
        "id": "8X6TF2C2iWN6",
        "colab_type": "text"
      },
      "source": [
        "### **Implement basic block & bottleneck block**"
      ]
    },
    {
      "cell_type": "code",
      "metadata": {
        "id": "XNho6oXaCMLp",
        "colab_type": "code",
        "colab": {}
      },
      "source": [
        "class BasicBlock(nn.Module):\n",
        "    expansion = 1\n",
        "  \n",
        "    def __init__(self, in_planes, planes, stride=1):\n",
        "      \"\"\" \n",
        "      TODO\n",
        "      feature map size가 달라지는 경우의수\n",
        "      1) basic block의 stride가 1이 아닐경우: w x h 가 맞지 않음\n",
        "      2) 채널의 갯수가 다른경우\n",
        "      \"\"\"\n",
        "\n",
        "    def forward(self, x):\n",
        "      \"\"\"\n",
        "      TODO\n",
        "      \"\"\"\n",
        "        return out"
      ],
      "execution_count": 0,
      "outputs": []
    },
    {
      "cell_type": "code",
      "metadata": {
        "id": "E2z-w2BOCMLs",
        "colab_type": "code",
        "colab": {}
      },
      "source": [
        "class Bottleneck(nn.Module):\n",
        "    expansion = 4\n",
        "\n",
        "    def __init__(self, in_planes, planes, stride=1):\n",
        "      \"\"\"\n",
        "      TODO\n",
        "      \"\"\"\n",
        "\n",
        "    def forward(self, x):\n",
        "      \"\"\"\n",
        "      TODO\n",
        "      \"\"\"\n",
        "        return out"
      ],
      "execution_count": 0,
      "outputs": []
    },
    {
      "cell_type": "markdown",
      "metadata": {
        "id": "Vw7Pa6TPidFA",
        "colab_type": "text"
      },
      "source": [
        "### **Build ResNet using predefined blocks**"
      ]
    },
    {
      "cell_type": "code",
      "metadata": {
        "id": "NZavVM9ZCMLv",
        "colab_type": "code",
        "colab": {}
      },
      "source": [
        "class ResNet(nn.Module):\n",
        "    def __init__(self, block, num_blocks, num_classes=100):\n",
        "        super(ResNet, self).__init__()\n",
        "        self.in_planes = 64\n",
        "\n",
        "        self.conv1 = nn.Conv2d(3, 64, kernel_size=3, stride=1, padding=1, bias=False)\n",
        "        self.bn1 = nn.BatchNorm2d(64)\n",
        "        self.layer1 = self._make_layer(block, 64, num_blocks[0], stride=1)\n",
        "        self.layer2 = self._make_layer(block, 128, num_blocks[1], stride=2)\n",
        "        self.layer3 = self._make_layer(block, 256, num_blocks[2], stride=2)\n",
        "        self.layer4 = self._make_layer(block, 512, num_blocks[3], stride=2)\n",
        "        self.linear = nn.Linear(512*block.expansion, num_classes)\n",
        "\n",
        "    def _make_layer(self, block, planes, num_blocks, stride):\n",
        "        strides = [stride] + [1]*(num_blocks-1)\n",
        "        layers = []\n",
        "        for stride in strides:\n",
        "            layers.append(block(self.in_planes, planes, stride))\n",
        "            self.in_planes = planes * block.expansion\n",
        "        return nn.Sequential(*layers)\n",
        "\n",
        "    def forward(self, x):\n",
        "        out = F.relu(self.bn1(self.conv1(x)))\n",
        "        out = self.layer1(out)\n",
        "        out = self.layer2(out)\n",
        "        out = self.layer3(out)\n",
        "        out = self.layer4(out)\n",
        "        out = F.avg_pool2d(out, 4)\n",
        "        out = out.view(out.size(0), -1)\n",
        "        out = self.linear(out)\n",
        "        return out"
      ],
      "execution_count": 0,
      "outputs": []
    },
    {
      "cell_type": "code",
      "metadata": {
        "id": "hFld0_lPCMLy",
        "colab_type": "code",
        "colab": {}
      },
      "source": [
        "def ResNet18():\n",
        "    return ResNet(BasicBlock, [2,2,2,2])\n",
        "\n",
        "def ResNet34():\n",
        "    return ResNet(BasicBlock, [3,4,6,3])\n",
        "\n",
        "def ResNet50():\n",
        "    return ResNet(Bottleneck, [3,4,6,3])\n",
        "\n",
        "def ResNet101():\n",
        "    return ResNet(Bottleneck, [3,4,23,3])\n",
        "\n",
        "def ResNet152():\n",
        "    return ResNet(Bottleneck, [3,8,36,3])"
      ],
      "execution_count": 0,
      "outputs": []
    },
    {
      "cell_type": "markdown",
      "metadata": {
        "id": "TDqSm_Sziitz",
        "colab_type": "text"
      },
      "source": [
        "### **Implement train & test functions**"
      ]
    },
    {
      "cell_type": "code",
      "metadata": {
        "id": "xUBnRAAzCML1",
        "colab_type": "code",
        "colab": {}
      },
      "source": [
        "def train(model, trainloader, criterion, optimizer, batch_size):    \n",
        "  \"\"\"\n",
        "  TODO\n",
        "  \"\"\"\n",
        "        \n",
        "    return (train_loss / (batch_idx + 1)) , train_acc"
      ],
      "execution_count": 0,
      "outputs": []
    },
    {
      "cell_type": "code",
      "metadata": {
        "id": "pgyyUksRCML4",
        "colab_type": "code",
        "colab": {}
      },
      "source": [
        "def test(model, testloader, criterion, batch_size):\n",
        "  \"\"\"\n",
        "  TODO\n",
        "  \"\"\"\n",
        "        \n",
        "    return (test_loss / (batch_idx +1)), test_acc"
      ],
      "execution_count": 0,
      "outputs": []
    },
    {
      "cell_type": "markdown",
      "metadata": {
        "id": "y5WYuwWQipNP",
        "colab_type": "text"
      },
      "source": [
        "### **Define the model and hyperparameters**"
      ]
    },
    {
      "cell_type": "code",
      "metadata": {
        "id": "d0XUWpPDCML6",
        "colab_type": "code",
        "colab": {}
      },
      "source": [
        "device = torch.device(\"cuda\" if torch.cuda.is_available() else 'cpu')\n",
        "\n",
        "\"\"\" \n",
        "Define the model and necessary hyperparameters here.\n",
        "\"\"\"\n",
        "\n",
        "model = \n",
        "\n",
        "num_epochs = \n",
        "\n",
        "model = model.to(device)\n",
        "params_to_update = model.parameters()\n",
        "optimizer = \n",
        "criterion = "
      ],
      "execution_count": 0,
      "outputs": []
    },
    {
      "cell_type": "markdown",
      "metadata": {
        "id": "oB4SnknoiudO",
        "colab_type": "text"
      },
      "source": [
        "### **Training Loop**"
      ]
    },
    {
      "cell_type": "code",
      "metadata": {
        "id": "lrlHd3kKCML-",
        "colab_type": "code",
        "colab": {}
      },
      "source": [
        "for epoch in range(num_epochs):    \n",
        "    train_loss, train_acc = train(model, trainloader, criterion, optimizer)\n",
        "    if epoch % 10 == 0:\n",
        "        test_loss, test_acc = test(model, testloader, criterion)\n",
        "        print(f'Train accuracy: {train_acc} / Test accuracy: {test_acc}')\n",
        "\n",
        "\"\"\"\n",
        "Save the model\n",
        "\"\"\""
      ],
      "execution_count": 0,
      "outputs": []
    }
  ]
}