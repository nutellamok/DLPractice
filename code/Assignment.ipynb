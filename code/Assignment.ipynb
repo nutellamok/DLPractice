{
  "nbformat": 4,
  "nbformat_minor": 0,
  "metadata": {
    "colab": {
      "name": "Assignment.ipynb",
      "provenance": [],
      "collapsed_sections": []
    },
    "kernelspec": {
      "name": "python3",
      "display_name": "Python 3"
    },
    "accelerator": "GPU"
  },
  "cells": [
    {
      "cell_type": "markdown",
      "metadata": {
        "id": "Uhv6i08nyZI9",
        "colab_type": "text"
      },
      "source": [
        "## **Part A. ResNet Training Competition**\n",
        "### **Import necessary libraries** "
      ]
    },
    {
      "cell_type": "code",
      "metadata": {
        "id": "2iqOKtb5yjqN",
        "colab_type": "code",
        "colab": {}
      },
      "source": [
        "import torch\n",
        "import torch.nn as nn\n",
        "import torch.optim as optim\n",
        "import torch.nn.functional as F\n",
        "import torch.backends.cudnn as cudnn\n",
        "\n",
        "import torchvision\n",
        "import torchvision.transforms as transforms\n",
        "\n",
        "import os\n",
        "import argparse"
      ],
      "execution_count": 0,
      "outputs": []
    },
    {
      "cell_type": "markdown",
      "metadata": {
        "id": "_9ffQoXtyipV",
        "colab_type": "text"
      },
      "source": [
        "### **Download CIFAR-100 dataset**\n",
        "\n"
      ]
    },
    {
      "cell_type": "code",
      "metadata": {
        "id": "lqywa5oIymw2",
        "colab_type": "code",
        "colab": {}
      },
      "source": [
        "transform_train = transforms.Compose([\n",
        "    transforms.RandomCrop(32, padding=4),\n",
        "    transforms.RandomHorizontalFlip(),\n",
        "    transforms.RandomRotation(15),\n",
        "    transforms.ToTensor(),\n",
        "    transforms.Normalize((0.5071, 0.4865, 0.4409), (0.26733, 0.2564, 0.2762))\n",
        "])\n",
        "\n",
        "transform_test = transforms.Compose([\n",
        "    transforms.ToTensor(),\n",
        "    transforms.Normalize((0.5089, 0.4874, 0.4419), (0.2683, 0.2574, 0.2771))\n",
        "])\n",
        "\n",
        "trainset = torchvision.datasets.CIFAR100(root='./data/cifar100', train=True, download=True, transform=transform_train)\n",
        "\n",
        "testset = torchvision.datasets.CIFAR100(root='./data/cifar100', train=False, download=True, transform=transform_test)\n",
        "\n",
        "trainloader= torch.utils.data.DataLoader(trainset, batch_size=128, shuffle=True)\n",
        "testloader = torch.utils.data.DataLoader(testset, batch_size=128, shuffle=True)"
      ],
      "execution_count": 0,
      "outputs": []
    },
    {
      "cell_type": "markdown",
      "metadata": {
        "id": "0N9YOLyDyosF",
        "colab_type": "text"
      },
      "source": [
        "### **Implement basic block & bottleneck block**"
      ]
    },
    {
      "cell_type": "code",
      "metadata": {
        "id": "m3Xd3-CnyrEH",
        "colab_type": "code",
        "colab": {}
      },
      "source": [
        "class BasicBlock(nn.Module):\n",
        "    expansion = 1\n",
        "\n",
        "    def __init__(self, in_planes, planes, stride=1):\n",
        "        super(BasicBlock, self).__init__()\n",
        "        self.conv1 = nn.Conv2d(in_planes, planes, kernel_size=3, stride=stride, padding=1, bias=False)\n",
        "        self.bn1 = nn.BatchNorm2d(planes)\n",
        "        self.conv2 = nn.Conv2d(planes, planes, kernel_size=3, stride=1, padding=1, bias=False)\n",
        "        self.bn2 = nn.BatchNorm2d(planes)\n",
        "\n",
        "        self.shortcut = nn.Sequential()\n",
        "        if stride != 1 or in_planes != self.expansion*planes:\n",
        "            self.shortcut = nn.Sequential(\n",
        "                nn.Conv2d(in_planes, self.expansion*planes, kernel_size=1, stride=stride, bias=False),\n",
        "                nn.BatchNorm2d(self.expansion*planes)\n",
        "            )\n",
        "\n",
        "    def forward(self, x):\n",
        "        out = F.relu(self.bn1(self.conv1(x)))\n",
        "        out = self.bn2(self.conv2(out))\n",
        "        out += self.shortcut(x)\n",
        "        out = F.relu(out)\n",
        "        return out"
      ],
      "execution_count": 0,
      "outputs": []
    },
    {
      "cell_type": "code",
      "metadata": {
        "id": "qwLQTXNgyxhM",
        "colab_type": "code",
        "colab": {}
      },
      "source": [
        "class Bottleneck(nn.Module):\n",
        "    expansion = 4\n",
        "\n",
        "    def __init__(self, in_planes, planes, stride=1):\n",
        "        super(Bottleneck, self).__init__()\n",
        "        self.conv1 = nn.Conv2d(in_planes, planes, kernel_size=1, bias=False)\n",
        "        self.bn1 = nn.BatchNorm2d(planes)\n",
        "        self.conv2 = nn.Conv2d(planes, planes, kernel_size=3, stride=stride, padding=1, bias=False)\n",
        "        self.bn2 = nn.BatchNorm2d(planes)\n",
        "        self.conv3 = nn.Conv2d(planes, self.expansion*planes, kernel_size=1, bias=False)\n",
        "        self.bn3 = nn.BatchNorm2d(self.expansion*planes)\n",
        "\n",
        "        self.shortcut = nn.Sequential()\n",
        "        if stride != 1 or in_planes != self.expansion*planes:\n",
        "            self.shortcut = nn.Sequential(\n",
        "                nn.Conv2d(in_planes, self.expansion*planes, kernel_size=1, stride=stride, bias=False),\n",
        "                nn.BatchNorm2d(self.expansion*planes)\n",
        "            )\n",
        "\n",
        "    def forward(self, x):\n",
        "        out = F.relu(self.bn1(self.conv1(x)))\n",
        "        out = F.relu(self.bn2(self.conv2(out)))\n",
        "        out = self.bn3(self.conv3(out))\n",
        "        out += self.shortcut(x)\n",
        "        out = F.relu(out)\n",
        "        return out"
      ],
      "execution_count": 0,
      "outputs": []
    },
    {
      "cell_type": "markdown",
      "metadata": {
        "id": "OAxMS2kIywC0",
        "colab_type": "text"
      },
      "source": [
        "### **Build ResNet using predefined blocks**"
      ]
    },
    {
      "cell_type": "code",
      "metadata": {
        "id": "aKVBk1y6y0xM",
        "colab_type": "code",
        "colab": {}
      },
      "source": [
        "class ResNet(nn.Module):\n",
        "    def __init__(self, block, num_blocks, num_classes=100):\n",
        "        super(ResNet, self).__init__()\n",
        "        self.in_planes = 64\n",
        "\n",
        "        self.conv1 = nn.Conv2d(3, 64, kernel_size=3, stride=1, padding=1, bias=False)\n",
        "        self.bn1 = nn.BatchNorm2d(64)\n",
        "        self.layer1 = self._make_layer(block, 64, num_blocks[0], stride=1)\n",
        "        self.layer2 = self._make_layer(block, 128, num_blocks[1], stride=2)\n",
        "        self.layer3 = self._make_layer(block, 256, num_blocks[2], stride=2)\n",
        "        self.layer4 = self._make_layer(block, 512, num_blocks[3], stride=2)\n",
        "        self.linear = nn.Linear(512*block.expansion, num_classes)\n",
        "\n",
        "    def _make_layer(self, block, planes, num_blocks, stride):\n",
        "        strides = [stride] + [1]*(num_blocks-1)\n",
        "        layers = []\n",
        "        for stride in strides:\n",
        "            layers.append(block(self.in_planes, planes, stride))\n",
        "            self.in_planes = planes * block.expansion\n",
        "        return nn.Sequential(*layers)\n",
        "\n",
        "    def forward(self, x):\n",
        "        out = F.relu(self.bn1(self.conv1(x)))\n",
        "        out = self.layer1(out)\n",
        "        out = self.layer2(out)\n",
        "        out = self.layer3(out)\n",
        "        out = self.layer4(out)\n",
        "        out = F.avg_pool2d(out, 4)\n",
        "        out = out.view(out.size(0), -1)\n",
        "        out = self.linear(out)\n",
        "        return out"
      ],
      "execution_count": 0,
      "outputs": []
    },
    {
      "cell_type": "code",
      "metadata": {
        "id": "-XGArCSSy23S",
        "colab_type": "code",
        "colab": {}
      },
      "source": [
        "def ResNet18():\n",
        "    return ResNet(BasicBlock, [2,2,2,2])\n",
        "\n",
        "def ResNet34():\n",
        "    return ResNet(BasicBlock, [3,4,6,3])\n",
        "\n",
        "def ResNet50():\n",
        "    return ResNet(Bottleneck, [3,4,6,3])\n",
        "\n",
        "def ResNet101():\n",
        "    return ResNet(Bottleneck, [3,4,23,3])\n",
        "\n",
        "def ResNet152():\n",
        "    return ResNet(Bottleneck, [3,8,36,3])"
      ],
      "execution_count": 0,
      "outputs": []
    },
    {
      "cell_type": "markdown",
      "metadata": {
        "id": "EJ_p4yngy8UB",
        "colab_type": "text"
      },
      "source": [
        "### **Implement train & test functions**"
      ]
    },
    {
      "cell_type": "code",
      "metadata": {
        "id": "fI3ydqXZy749",
        "colab_type": "code",
        "colab": {}
      },
      "source": [
        "def train(model, trainloader, criterion, optimizer):    \n",
        "    train_loss = 0.0\n",
        "    train_acc = 0.0\n",
        "    total = 0 \n",
        "    correct = 0 \n",
        "    \n",
        "    train_loader = trainloader\n",
        "    model.train()\n",
        "\n",
        "    for batch_idx, (inputs, labels) in enumerate(train_loader):\n",
        "        inputs = inputs.to(device)\n",
        "        labels = labels.to(device)\n",
        "        \n",
        "        optimizer.zero_grad()\n",
        "        \n",
        "        output = model(inputs) \n",
        "        loss = criterion(output, labels)\n",
        "        \n",
        "        _, preds = output.max(1)\n",
        "        total += labels.size(0)\n",
        "        correct += preds.eq(labels).sum().item()\n",
        "        \n",
        "        loss.backward()\n",
        "        optimizer.step()\n",
        "        \n",
        "        train_loss += loss.item()\n",
        "        train_acc = (correct / total) * 100.0 \n",
        "        \n",
        "    return (train_loss / (batch_idx + 1)) , train_acc"
      ],
      "execution_count": 0,
      "outputs": []
    },
    {
      "cell_type": "code",
      "metadata": {
        "id": "HAeO8Rw7y-Zn",
        "colab_type": "code",
        "colab": {}
      },
      "source": [
        "def test(model, testloader, criterion):\n",
        "    test_loss = 0.0\n",
        "    test_acc = 0.0\n",
        "    total = 0\n",
        "    correct = 0 \n",
        "    \n",
        "    test_loader = testloader\n",
        "    model.eval()\n",
        "    with torch.no_grad():\n",
        "      for batch_idx, (inputs, labels) in enumerate(test_loader):\n",
        "          inputs = inputs.to(device)\n",
        "          labels = labels.to(device)\n",
        "          \n",
        "          optimizer.zero_grad()\n",
        "          \n",
        "          output = model(inputs)\n",
        "          loss = criterion(output, labels)\n",
        "          \n",
        "          _, preds = output.max(1)\n",
        "          total += labels.size(0)\n",
        "          correct += preds.eq(labels).sum().item()\n",
        "          \n",
        "          test_loss += loss.item()\n",
        "          test_acc = (correct / total) * 100.0\n",
        "        \n",
        "    return (test_loss / (batch_idx +1)), test_acc"
      ],
      "execution_count": 0,
      "outputs": []
    },
    {
      "cell_type": "markdown",
      "metadata": {
        "id": "ughvZYB0zBoi",
        "colab_type": "text"
      },
      "source": [
        "\n",
        "### **Define the model and hyperparameters**"
      ]
    },
    {
      "cell_type": "code",
      "metadata": {
        "id": "ZwBVanKq8k2m",
        "colab_type": "code",
        "colab": {}
      },
      "source": [
        "\"\"\"\n",
        "TODO \n",
        "Hyperparameter tuning을 통하여 최대한 test accuracy를 끌어올리는 것이 목표입니다.\n",
        "Rules:\n",
        "1) 학생 분들께서 background가 제각각 다르기때문에 공정성을 위하여\n",
        "모델은 주어진 5개의 resnet variation들만 사용할 수 있습니다. \n",
        "2) Pytorch에서 제공되는 pretrain된 resnet또한 사용하지 말아주세요. \n",
        "\"\"\"\n",
        "\n",
        "device = torch.device(\"cuda\" if torch.cuda.is_available() else 'cpu')\n",
        "\n",
        "model = \n",
        "\n",
        "num_epochs = \n",
        "\n",
        "model = model.to(device)\n",
        "params_to_update = model.parameters()\n",
        "optimizer = \n",
        "criterion = nn.CrossEntropyLoss()"
      ],
      "execution_count": 0,
      "outputs": []
    },
    {
      "cell_type": "markdown",
      "metadata": {
        "id": "on-p5uaOzHhD",
        "colab_type": "text"
      },
      "source": [
        "### **Training loop**\n",
        "### **이 셀의 아웃풋은 절대 지우시면 안됩니다. 아웃풋이 있는 상태로 노트북을 저장해서 submit 해주세요**\n",
        "### **저장 된 모델 파일을 우클릭하시면 컴퓨터에 저장을 할 수 있습니다. 그 모델 또한 최종적으로 ipynb파일과 함께 압축하여 보내주셔야 합니다.**"
      ]
    },
    {
      "cell_type": "code",
      "metadata": {
        "id": "FGWau1v5zIMe",
        "colab_type": "code",
        "colab": {}
      },
      "source": [
        "for epoch in range(num_epochs):    \n",
        "    train_loss, train_acc = train(model, trainloader, criterion, optimizer)\n",
        "    if epoch % 10 == 0:\n",
        "        test_loss, test_acc = test(model, testloader, criterion)\n",
        "        print(f'Train accuracy: {train_acc} / Test accuracy: {test_acc}')\n",
        "\n",
        "if os.path.isdir('./saved_models') == False:\n",
        "    os.makedirs('./saved_models')\n",
        "\n",
        "torch.save(model, './saved_models/resnet.pt')"
      ],
      "execution_count": 0,
      "outputs": []
    },
    {
      "cell_type": "markdown",
      "metadata": {
        "id": "RRzX-cY4SCrQ",
        "colab_type": "text"
      },
      "source": [
        "## **Part B. Adversarial Attack**\n",
        "### **Import necessary libraries**"
      ]
    },
    {
      "cell_type": "code",
      "metadata": {
        "id": "RWr6fhXsR95X",
        "colab_type": "code",
        "colab": {}
      },
      "source": [
        "import torch\n",
        "import torch.nn as nn\n",
        "import torch.optim as optim\n",
        "from torchvision import datasets, transforms\n",
        "from torch.utils.data import DataLoader\n",
        "import numpy as np"
      ],
      "execution_count": 0,
      "outputs": []
    },
    {
      "cell_type": "markdown",
      "metadata": {
        "id": "l72-Dfp4SFZP",
        "colab_type": "text"
      },
      "source": [
        "### **Implement FGSM Attack**"
      ]
    },
    {
      "cell_type": "code",
      "metadata": {
        "id": "rvcvr_1TSIXF",
        "colab_type": "code",
        "colab": {}
      },
      "source": [
        "def fgsm_attack(image, epsilon, data_grad):\n",
        "  \"\"\"\n",
        "  TODO\n",
        "  Clean image, epsilon = 0.01, gradient w.r.t. data 가 주어졌을 때,\n",
        "  새로운 perturbed_image 를 생성해 주세요.\n",
        "  이 perturbed_image는 다음 test_attack 함수에서 \n",
        "  실제로 이 attack이 성공 하였는지 확인하기 위해 쓰이게 됩니다.\n",
        "  받은 인풋을 사용하여 fgsm 구현을 하기 위한 식은 ppt 자료를 참고해주세요.\n",
        "  \"\"\"\n",
        "    return perturbed_image"
      ],
      "execution_count": 0,
      "outputs": []
    },
    {
      "cell_type": "markdown",
      "metadata": {
        "id": "ryRiRCBOSKeP",
        "colab_type": "text"
      },
      "source": [
        "\n",
        "### **Implement Attacking Function**"
      ]
    },
    {
      "cell_type": "code",
      "metadata": {
        "id": "9jFGft6kSNiQ",
        "colab_type": "code",
        "colab": {}
      },
      "source": [
        "def test_attack(model, device, test_loader, epsilon):\n",
        "  \"\"\"\n",
        "  TODO\n",
        "  1. test_loader의 데이터를 gpu로 옮겨줍니다.\n",
        "  2. data에 대한 gradient를 구해주기 위해 data.requires_grad 를 True 로 만들어줍니다. (중요)\n",
        "  3. 오리지널 (클린) 데이터로 forward pass를 해줍니다.\n",
        "  4. crossentropyloss 값을 구하고, gradient를 구해줍니다.\n",
        "  5. 계산 된 gradient 들 중 data gradient 만 뽑기 위해 data.grad.data 명령어를 사용하여 data_grad를 만들어줍니다.\n",
        "  -> 여기까지 하시면 fgsm_attack 에 필요한 모든 인풋이 계산이 되게 됩니다. \n",
        "  6. fgsm_attack을 불러서 새로운 (어택이 된) 데이터를 생성해줍니다.\n",
        "  7. 이 새로운 데이터를 model에 forward pass를 해줍니다.\n",
        "  8. 새로운 예측값이 맞았는지 확인해줍니다.\n",
        "  9. 예측값이 맞는 데이터의 갯수를 전체 데이터 갯수 값으로 나눠 줘서 마지막 test accuracy (final_acc)를 계산합니다.\n",
        "  -> attack이 성공 적이었다면 final_acc가 전보다 현저히 낮아짐을 확인 할 수 있습니다.\n",
        "  \"\"\"\n",
        "  \n",
        "    print(f\"Final Test Accuracy = {final_acc}\")\n",
        "\n",
        "    # Return the accuracy and an adversarial example\n",
        "    return final_acc"
      ],
      "execution_count": 0,
      "outputs": []
    },
    {
      "cell_type": "markdown",
      "metadata": {
        "id": "YHO1jUn0SQsE",
        "colab_type": "text"
      },
      "source": [
        "### **Attack the model given epsilon = 0.01**\n",
        "### **이 셀의 아웃풋은 절대 지우시면 안됩니다. 아웃풋이 있는 상태로 노트북을 저장해서 submit 해주세요**\n"
      ]
    },
    {
      "cell_type": "code",
      "metadata": {
        "id": "zmOxbFOo9lpI",
        "colab_type": "code",
        "colab": {}
      },
      "source": [
        "epsilon = 0.01\n",
        "\n",
        "model.eval()\n",
        "test_attack(model, device, testloader, epsilon)"
      ],
      "execution_count": 0,
      "outputs": []
    }
  ]
}