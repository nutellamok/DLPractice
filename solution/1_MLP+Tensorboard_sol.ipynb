{
  "nbformat": 4,
  "nbformat_minor": 0,
  "metadata": {
    "colab": {
      "name": "1.MLP+Tensorboard_sol.ipynb",
      "provenance": [],
      "collapsed_sections": []
    },
    "kernelspec": {
      "name": "python3",
      "display_name": "Python 3"
    },
    "accelerator": "GPU"
  },
  "cells": [
    {
      "cell_type": "markdown",
      "metadata": {
        "id": "HP9J7z6fkFj9",
        "colab_type": "text"
      },
      "source": [
        "## **1. MLP + Tensorboard**\n",
        "Load dataset and set Tensorboard"
      ]
    },
    {
      "cell_type": "code",
      "metadata": {
        "id": "aZoi5WlaaUNB",
        "colab_type": "code",
        "colab": {}
      },
      "source": [
        ""
      ],
      "execution_count": 0,
      "outputs": []
    },
    {
      "cell_type": "code",
      "metadata": {
        "id": "7vMffmqLmkGX",
        "colab_type": "code",
        "colab": {}
      },
      "source": [
        "# import shutil\n",
        "# shutil.rmtree('runs')"
      ],
      "execution_count": 0,
      "outputs": []
    },
    {
      "cell_type": "code",
      "metadata": {
        "id": "-7_enwVjyEKH",
        "colab_type": "code",
        "outputId": "62eff79f-0264-4a12-aff8-b404dfa45e0c",
        "colab": {
          "base_uri": "https://localhost:8080/",
          "height": 864
        }
      },
      "source": [
        "# imports\n",
        "import matplotlib.pyplot as plt\n",
        "import numpy as np\n",
        "\n",
        "import torch\n",
        "import torchvision\n",
        "import torchvision.transforms as transforms\n",
        "\n",
        "import torch.nn as nn\n",
        "import torch.nn.functional as F\n",
        "import torch.optim as optim\n",
        "\n",
        "from torch.utils.tensorboard import SummaryWriter\n",
        "%load_ext tensorboard\n",
        "%tensorboard --logdir runs\n",
        "\n",
        "writer = SummaryWriter('runs/fashion_mnist_experiment_1')\n",
        "\n",
        "device = torch.device(\"cuda\" if torch.cuda.is_available() else 'cpu')\n",
        "\n",
        "# transforms\n",
        "transform = transforms.Compose(\n",
        "    [transforms.ToTensor(),\n",
        "    transforms.Normalize((0.5,), (0.5,))])\n",
        "\n",
        "# datasets\n",
        "trainset = torchvision.datasets.FashionMNIST('./data',\n",
        "    download=True,\n",
        "    train=True,\n",
        "    transform=transform)\n",
        "testset = torchvision.datasets.FashionMNIST('./data',\n",
        "    download=True,\n",
        "    train=False,\n",
        "    transform=transform)\n",
        "\n",
        "# dataloaders\n",
        "trainloader = torch.utils.data.DataLoader(trainset, batch_size=4,\n",
        "                                        shuffle=True, num_workers=2)\n",
        "\n",
        "\n",
        "testloader = torch.utils.data.DataLoader(testset, batch_size=4,\n",
        "                                        shuffle=False, num_workers=2)\n",
        "\n",
        "# constant for classes\n",
        "classes = ('T-shirt/top', 'Trouser', 'Pullover', 'Dress', 'Coat',\n",
        "        'Sandal', 'Shirt', 'Sneaker', 'Bag', 'Ankle Boot')\n",
        "\n",
        "# helper function to show an image\n",
        "# (used in the `plot_classes_preds` function below)\n",
        "def matplotlib_imshow(img, one_channel=False):\n",
        "    if one_channel:\n",
        "        img = img.mean(dim=0)\n",
        "    img = img / 2 + 0.5     # unnormalize\n",
        "    npimg = img.numpy()\n",
        "    if one_channel:\n",
        "        plt.imshow(npimg, cmap=\"Greys\")\n",
        "    else:\n",
        "        plt.imshow(np.transpose(npimg, (1, 2, 0)))"
      ],
      "execution_count": 0,
      "outputs": []
    },
    {
      "cell_type": "markdown",
      "metadata": {
        "id": "ncL6i37ekK3K",
        "colab_type": "text"
      },
      "source": [
        "Visualize the samples of the train data"
      ]
    },
    {
      "cell_type": "code",
      "metadata": {
        "id": "QxAv_XZBymWj",
        "colab_type": "code",
        "outputId": "6152da3c-6f95-4897-ed31-05429c987ec8",
        "colab": {
          "base_uri": "https://localhost:8080/",
          "height": 138
        }
      },
      "source": [
        "# get some random training images\n",
        "dataiter = iter(trainloader)\n",
        "images, labels = dataiter.next()\n",
        "# create grid of images\n",
        "img_grid = torchvision.utils.make_grid(images)\n",
        "\n",
        "# show images\n",
        "matplotlib_imshow(img_grid, one_channel=True)\n",
        "\n",
        "# write to tensorboard\n",
        "writer.add_image('four_fashion_mnist_images', img_grid)"
      ],
      "execution_count": 0,
      "outputs": [
        {
          "output_type": "display_data",
          "data": {
            "image/png": "[encoded data removed]",
            "text/plain": [
              "<Figure size 432x288 with 1 Axes>"
            ]
          },
          "metadata": {
            "tags": []
          }
        }
      ]
    },
    {
      "cell_type": "markdown",
      "metadata": {
        "id": "xUSmCvmLkOyy",
        "colab_type": "text"
      },
      "source": [
        "Define the network structure and forward pass"
      ]
    },
    {
      "cell_type": "code",
      "metadata": {
        "id": "y4BquvnJyeQ8",
        "colab_type": "code",
        "colab": {}
      },
      "source": [
        "class Net(nn.Module):\n",
        "    def __init__(self):\n",
        "        super(Net, self).__init__()\n",
        "        self.fc1 = nn.Linear(28*28, 120)\n",
        "        self.fc2 = nn.Linear(120, 120)\n",
        "        self.fc3 = nn.Linear(120, 84)\n",
        "        self.fc4 = nn.Linear(84, 10)\n",
        "\n",
        "    def forward(self, x):\n",
        "        x = x.view(-1, 28*28)\n",
        "        x = F.relu(self.fc1(x))\n",
        "        x = F.relu(self.fc2(x))\n",
        "        x = F.relu(self.fc3(x))\n",
        "        x = self.fc4(x)\n",
        "        return x\n",
        "\n",
        "net = Net().to(device)"
      ],
      "execution_count": 0,
      "outputs": []
    },
    {
      "cell_type": "markdown",
      "metadata": {
        "id": "5jk5pN4JkUgq",
        "colab_type": "text"
      },
      "source": [
        "Define the loss and the optimizer for training the network "
      ]
    },
    {
      "cell_type": "code",
      "metadata": {
        "id": "VlY6FfytcCwa",
        "colab_type": "code",
        "colab": {}
      },
      "source": [
        "criterion = nn.CrossEntropyLoss()\n",
        "optimizer = optim.SGD(net.parameters(), lr=0.01)"
      ],
      "execution_count": 0,
      "outputs": []
    },
    {
      "cell_type": "markdown",
      "metadata": {
        "id": "7bs6l0wkkarH",
        "colab_type": "text"
      },
      "source": [
        "### **Train function (practice #1)**\n",
        "- Train loop\n",
        "- Log learning statistics on Tensorboard\n",
        "- Print learning statistics\n",
        "- Log some images and prediction results on Tensorboard \n"
      ]
    },
    {
      "cell_type": "code",
      "metadata": {
        "id": "YQfBuSfzyySj",
        "colab_type": "code",
        "colab": {}
      },
      "source": [
        "def train(trainloader, net, max_epochs):\n",
        "  running_loss = 0.0\n",
        "  running_acc = 0.0\n",
        "  for epoch in range(max_epochs): \n",
        "      for i, data in enumerate(trainloader, 0):\n",
        "\n",
        "          # get the inputs; data is a list of [inputs, labels]\n",
        "          inputs, labels = data[0].to(device), data[1].to(device)\n",
        "\n",
        "          # zero the parameter gradients\n",
        "          optimizer.zero_grad()\n",
        "\n",
        "          # forward + backward + optimize\n",
        "          outputs = net(inputs)\n",
        "          loss = criterion(outputs, labels)\n",
        "          loss.backward()\n",
        "          optimizer.step()\n",
        "\n",
        "          _, pred = torch.max(outputs, 1)\n",
        "          acc = (pred==labels).sum()/labels.size(0)\n",
        "\n",
        "          running_loss += loss.item()\n",
        "          running_acc += acc.item()\n",
        "          if i % 1000 == 999:    # every 1000 mini-batches...\n",
        "              # ...log the running loss\n",
        "              print(f'[Epoch {epoch} ({i}/{len(trainloader)})] '\\\n",
        "                    f'training loss : {running_loss/1000:.4f}, '\\\n",
        "                    f'training acc : {running_acc/1000*100} %')\n",
        "              writer.add_scalar('training loss',\n",
        "                              running_loss / 1000,\n",
        "                              epoch * len(trainloader) + i)\n",
        "              writer.add_scalar('training acc',\n",
        "                              running_loss / 1000,\n",
        "                              epoch * len(trainloader) + i)\n",
        "              \n",
        "              running_loss = 0.0\n",
        "              running_acc = 0.0\n",
        "  print('Finished Training')"
      ],
      "execution_count": 0,
      "outputs": []
    },
    {
      "cell_type": "code",
      "metadata": {
        "id": "ZfVJ8Z5Fokmm",
        "colab_type": "code",
        "outputId": "80c1ebc8-9668-4dd4-d472-0407073a1688",
        "colab": {
          "base_uri": "https://localhost:8080/",
          "height": 308
        }
      },
      "source": [
        "train(trainloader, net,1)"
      ],
      "execution_count": 0,
      "outputs": [
        {
          "output_type": "stream",
          "text": [
            "[Epoch 0 (999/15000)] training loss : 1.4294, training acc : 11.0 %\n",
            "[Epoch 0 (1999/15000)] training loss : 0.7001, training acc : 27.1 %\n",
            "[Epoch 0 (2999/15000)] training loss : 0.6212, training acc : 34.0 %\n",
            "[Epoch 0 (3999/15000)] training loss : 0.5559, training acc : 39.4 %\n",
            "[Epoch 0 (4999/15000)] training loss : 0.5340, training acc : 41.199999999999996 %\n",
            "[Epoch 0 (5999/15000)] training loss : 0.5304, training acc : 41.4 %\n",
            "[Epoch 0 (6999/15000)] training loss : 0.5055, training acc : 43.5 %\n",
            "[Epoch 0 (7999/15000)] training loss : 0.4800, training acc : 47.8 %\n",
            "[Epoch 0 (8999/15000)] training loss : 0.4834, training acc : 47.3 %\n",
            "[Epoch 0 (9999/15000)] training loss : 0.5037, training acc : 43.5 %\n",
            "[Epoch 0 (10999/15000)] training loss : 0.4892, training acc : 47.4 %\n",
            "[Epoch 0 (11999/15000)] training loss : 0.4443, training acc : 50.5 %\n",
            "[Epoch 0 (12999/15000)] training loss : 0.4584, training acc : 46.6 %\n",
            "[Epoch 0 (13999/15000)] training loss : 0.4403, training acc : 48.5 %\n",
            "[Epoch 0 (14999/15000)] training loss : 0.4267, training acc : 51.9 %\n",
            "Finished Training\n"
          ],
          "name": "stdout"
        }
      ]
    },
    {
      "cell_type": "markdown",
      "metadata": {
        "id": "7Qk8JqFAkeqi",
        "colab_type": "text"
      },
      "source": [
        "### **Test function (practice #2)**\n",
        "- get the input\n",
        "- forward pass\n",
        "- compute loss and accuracy"
      ]
    },
    {
      "cell_type": "code",
      "metadata": {
        "id": "f9kWoXlOon_O",
        "colab_type": "code",
        "colab": {}
      },
      "source": [
        "def test(testloader, net):\n",
        "  running_loss = 0.0\n",
        "  running_acc = 0.0\n",
        "  for i, data in enumerate(testloader, 0):\n",
        "      # get the inputs; data is a list of [inputs, labels]\n",
        "      inputs, labels = data[0].to(device), data[1].to(device)\n",
        "\n",
        "      # forward + backward + optimize\n",
        "      outputs = net(inputs) \n",
        "      loss = criterion(outputs, labels)\n",
        "      _, pred = torch.max(outputs, 1)\n",
        "      acc = (pred==labels).sum()/labels.size(0)\n",
        "\n",
        "      running_loss += loss.item()\n",
        "      running_acc += acc.item()\n",
        "    \n",
        "  print(f'test loss : {running_loss/len(testloader):.4f}, test acc : {running_acc/len(testloader)*100} %')\n"
      ],
      "execution_count": 0,
      "outputs": []
    },
    {
      "cell_type": "code",
      "metadata": {
        "id": "0t-HjKg0qiDp",
        "colab_type": "code",
        "outputId": "b7cce40e-b23a-4668-8bb0-5cd11b2e0944",
        "colab": {
          "base_uri": "https://localhost:8080/",
          "height": 35
        }
      },
      "source": [
        "test(testloader, net)"
      ],
      "execution_count": 0,
      "outputs": [
        {
          "output_type": "stream",
          "text": [
            "test loss : 0.4766, test acc : 45.12 %\n"
          ],
          "name": "stdout"
        }
      ]
    },
    {
      "cell_type": "code",
      "metadata": {
        "id": "90EXYxy7qjeu",
        "colab_type": "code",
        "colab": {}
      },
      "source": [
        ""
      ],
      "execution_count": 0,
      "outputs": []
    }
  ]
}