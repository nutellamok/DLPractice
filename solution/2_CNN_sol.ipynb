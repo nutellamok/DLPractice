{
  "nbformat": 4,
  "nbformat_minor": 0,
  "metadata": {
    "kernelspec": {
      "name": "python3",
      "display_name": "Python 3"
    },
    "language_info": {
      "codemirror_mode": {
        "name": "ipython",
        "version": 3
      },
      "file_extension": ".py",
      "mimetype": "text/x-python",
      "name": "python",
      "nbconvert_exporter": "python",
      "pygments_lexer": "ipython3",
      "version": "3.6.8"
    },
    "colab": {
      "name": "2.CNN_sol.ipynb",
      "provenance": [],
      "collapsed_sections": []
    },
    "accelerator": "GPU"
  },
  "cells": [
    {
      "cell_type": "markdown",
      "metadata": {
        "id": "E0M77QSEiJ7F",
        "colab_type": "text"
      },
      "source": [
        "## **2. RESNET Implementation**\n",
        "### **Import necessary libraries** "
      ]
    },
    {
      "cell_type": "code",
      "metadata": {
        "id": "iIEm1ZONil3V",
        "colab_type": "code",
        "colab": {}
      },
      "source": [
        "import torch\n",
        "import torch.nn as nn\n",
        "import torch.optim as optim\n",
        "import torch.nn.functional as F\n",
        "import torch.backends.cudnn as cudnn\n",
        "\n",
        "import torchvision\n",
        "import torchvision.transforms as transforms\n",
        "\n",
        "import os\n",
        "import argparse"
      ],
      "execution_count": 0,
      "outputs": []
    },
    {
      "cell_type": "markdown",
      "metadata": {
        "id": "UqzCgqJRiPWr",
        "colab_type": "text"
      },
      "source": [
        "### **Download CIFAR-100 dataset**\n",
        "\n"
      ]
    },
    {
      "cell_type": "code",
      "metadata": {
        "id": "BbntsbN9il3a",
        "colab_type": "code",
        "outputId": "273f0c61-b710-4ee5-8ad5-539a33c3a796",
        "colab": {
          "base_uri": "https://localhost:8080/",
          "height": 51
        }
      },
      "source": [
        "transform_train = transforms.Compose([\n",
        "    transforms.RandomCrop(32, padding=4),\n",
        "    transforms.RandomHorizontalFlip(),\n",
        "    transforms.RandomRotation(15),\n",
        "    transforms.ToTensor(),\n",
        "    transforms.Normalize((0.5071, 0.4865, 0.4409), (0.26733, 0.2564, 0.2762))\n",
        "])\n",
        "\n",
        "transform_test = transforms.Compose([\n",
        "    transforms.ToTensor(),\n",
        "    transforms.Normalize((0.5089, 0.4874, 0.4419), (0.2683, 0.2574, 0.2771))\n",
        "])\n",
        "\n",
        "trainset = torchvision.datasets.CIFAR100(root='./data/cifar100', train=True, download=True, transform=transform_train)\n",
        "\n",
        "testset = torchvision.datasets.CIFAR100(root='./data/cifar100', train=False, download=True, transform=transform_test)\n",
        "\n",
        "trainloader= torch.utils.data.DataLoader(trainset, batch_size=128, shuffle=True)\n",
        "testloader = torch.utils.data.DataLoader(testset, batch_size=128, shuffle=True)"
      ],
      "execution_count": 0,
      "outputs": [
        {
          "output_type": "stream",
          "text": [
            "Files already downloaded and verified\n",
            "Files already downloaded and verified\n"
          ],
          "name": "stdout"
        }
      ]
    },
    {
      "cell_type": "markdown",
      "metadata": {
        "id": "poTjxGd-iQye",
        "colab_type": "text"
      },
      "source": [
        "### **Implement basic block & bottleneck block**"
      ]
    },
    {
      "cell_type": "code",
      "metadata": {
        "id": "gW7ykyoZil3d",
        "colab_type": "code",
        "colab": {}
      },
      "source": [
        "class BasicBlock(nn.Module):\n",
        "    expansion = 1\n",
        "\n",
        "    def __init__(self, in_planes, planes, stride=1):\n",
        "        super(BasicBlock, self).__init__()\n",
        "        self.conv1 = nn.Conv2d(in_planes, planes, kernel_size=3, stride=stride, padding=1, bias=False)\n",
        "        self.bn1 = nn.BatchNorm2d(planes)\n",
        "        self.conv2 = nn.Conv2d(planes, planes, kernel_size=3, stride=1, padding=1, bias=False)\n",
        "        self.bn2 = nn.BatchNorm2d(planes)\n",
        "\n",
        "        self.shortcut = nn.Sequential()\n",
        "        if stride != 1 or in_planes != self.expansion*planes:\n",
        "            self.shortcut = nn.Sequential(\n",
        "                nn.Conv2d(in_planes, self.expansion*planes, kernel_size=1, stride=stride, bias=False),\n",
        "                nn.BatchNorm2d(self.expansion*planes)\n",
        "            )\n",
        "\n",
        "    def forward(self, x):\n",
        "        out = F.relu(self.bn1(self.conv1(x)))\n",
        "        out = self.bn2(self.conv2(out))\n",
        "        out += self.shortcut(x)\n",
        "        out = F.relu(out)\n",
        "        return out"
      ],
      "execution_count": 0,
      "outputs": []
    },
    {
      "cell_type": "code",
      "metadata": {
        "id": "359c3vuMil3g",
        "colab_type": "code",
        "colab": {}
      },
      "source": [
        "class Bottleneck(nn.Module):\n",
        "    expansion = 4\n",
        "\n",
        "    def __init__(self, in_planes, planes, stride=1):\n",
        "        super(Bottleneck, self).__init__()\n",
        "        self.conv1 = nn.Conv2d(in_planes, planes, kernel_size=1, bias=False)\n",
        "        self.bn1 = nn.BatchNorm2d(planes)\n",
        "        self.conv2 = nn.Conv2d(planes, planes, kernel_size=3, stride=stride, padding=1, bias=False)\n",
        "        self.bn2 = nn.BatchNorm2d(planes)\n",
        "        self.conv3 = nn.Conv2d(planes, self.expansion*planes, kernel_size=1, bias=False)\n",
        "        self.bn3 = nn.BatchNorm2d(self.expansion*planes)\n",
        "\n",
        "        self.shortcut = nn.Sequential()\n",
        "        if stride != 1 or in_planes != self.expansion*planes:\n",
        "            self.shortcut = nn.Sequential(\n",
        "                nn.Conv2d(in_planes, self.expansion*planes, kernel_size=1, stride=stride, bias=False),\n",
        "                nn.BatchNorm2d(self.expansion*planes)\n",
        "            )\n",
        "\n",
        "    def forward(self, x):\n",
        "        out = F.relu(self.bn1(self.conv1(x)))\n",
        "        out = F.relu(self.bn2(self.conv2(out)))\n",
        "        out = self.bn3(self.conv3(out))\n",
        "        out += self.shortcut(x)\n",
        "        out = F.relu(out)\n",
        "        return out"
      ],
      "execution_count": 0,
      "outputs": []
    },
    {
      "cell_type": "markdown",
      "metadata": {
        "id": "cKenAKEMiX_n",
        "colab_type": "text"
      },
      "source": [
        "### **Build ResNet using predefined blocks**"
      ]
    },
    {
      "cell_type": "code",
      "metadata": {
        "id": "-Kh0gvqpil3j",
        "colab_type": "code",
        "colab": {}
      },
      "source": [
        "class ResNet(nn.Module):\n",
        "    def __init__(self, block, num_blocks, num_classes=100):\n",
        "        super(ResNet, self).__init__()\n",
        "        self.in_planes = 64\n",
        "\n",
        "        self.conv1 = nn.Conv2d(3, 64, kernel_size=3, stride=1, padding=1, bias=False)\n",
        "        self.bn1 = nn.BatchNorm2d(64)\n",
        "        self.layer1 = self._make_layer(block, 64, num_blocks[0], stride=1)\n",
        "        self.layer2 = self._make_layer(block, 128, num_blocks[1], stride=2)\n",
        "        self.layer3 = self._make_layer(block, 256, num_blocks[2], stride=2)\n",
        "        self.layer4 = self._make_layer(block, 512, num_blocks[3], stride=2)\n",
        "        self.linear = nn.Linear(512*block.expansion, num_classes)\n",
        "\n",
        "    def _make_layer(self, block, planes, num_blocks, stride):\n",
        "        strides = [stride] + [1]*(num_blocks-1)\n",
        "        layers = []\n",
        "        for stride in strides:\n",
        "            layers.append(block(self.in_planes, planes, stride))\n",
        "            self.in_planes = planes * block.expansion\n",
        "        return nn.Sequential(*layers)\n",
        "\n",
        "    def forward(self, x):\n",
        "        out = F.relu(self.bn1(self.conv1(x)))\n",
        "        out = self.layer1(out)\n",
        "        out = self.layer2(out)\n",
        "        out = self.layer3(out)\n",
        "        out = self.layer4(out)\n",
        "        out = F.avg_pool2d(out, 4)\n",
        "        out = out.view(out.size(0), -1)\n",
        "        out = self.linear(out)\n",
        "        return out"
      ],
      "execution_count": 0,
      "outputs": []
    },
    {
      "cell_type": "code",
      "metadata": {
        "id": "HJ3lBTh6il3l",
        "colab_type": "code",
        "colab": {}
      },
      "source": [
        "def ResNet18():\n",
        "    return ResNet(BasicBlock, [2,2,2,2])\n",
        "\n",
        "def ResNet34():\n",
        "    return ResNet(BasicBlock, [3,4,6,3])\n",
        "\n",
        "def ResNet50():\n",
        "    return ResNet(Bottleneck, [3,4,6,3])\n",
        "\n",
        "def ResNet101():\n",
        "    return ResNet(Bottleneck, [3,4,23,3])\n",
        "\n",
        "def ResNet152():\n",
        "    return ResNet(Bottleneck, [3,8,36,3])"
      ],
      "execution_count": 0,
      "outputs": []
    },
    {
      "cell_type": "markdown",
      "metadata": {
        "id": "Fj9K3uwwifJa",
        "colab_type": "text"
      },
      "source": [
        "### **Implement train & test functions**"
      ]
    },
    {
      "cell_type": "code",
      "metadata": {
        "id": "bcHMKTFYil3o",
        "colab_type": "code",
        "colab": {}
      },
      "source": [
        "def train(model, trainloader, criterion, optimizer):    \n",
        "    train_loss = 0.0\n",
        "    train_acc = 0.0\n",
        "    total = 0 \n",
        "    correct = 0 \n",
        "    \n",
        "    train_loader = trainloader\n",
        "    model.train()\n",
        "\n",
        "    for batch_idx, (inputs, labels) in enumerate(train_loader):\n",
        "        inputs = inputs.to(device)\n",
        "        labels = labels.to(device)\n",
        "        \n",
        "        optimizer.zero_grad()\n",
        "        \n",
        "        output = model(inputs) \n",
        "        loss = criterion(output, labels)\n",
        "        \n",
        "        _, preds = output.max(1)\n",
        "        total += labels.size(0)\n",
        "        correct += preds.eq(labels).sum().item()\n",
        "        \n",
        "        loss.backward()\n",
        "        optimizer.step()\n",
        "        \n",
        "        train_loss += loss.item()\n",
        "        train_acc = (correct / total) * 100.0 \n",
        "        \n",
        "    return (train_loss / (batch_idx + 1)) , train_acc"
      ],
      "execution_count": 0,
      "outputs": []
    },
    {
      "cell_type": "code",
      "metadata": {
        "id": "kb-ffouFil3r",
        "colab_type": "code",
        "colab": {}
      },
      "source": [
        "def test(model, testloader, criterion):\n",
        "    test_loss = 0.0\n",
        "    test_acc = 0.0\n",
        "    total = 0\n",
        "    correct = 0 \n",
        "    \n",
        "    test_loader = testloader\n",
        "    model.eval()\n",
        "    with torch.no_grad():\n",
        "      for batch_idx, (inputs, labels) in enumerate(test_loader):\n",
        "          inputs = inputs.to(device)\n",
        "          labels = labels.to(device)\n",
        "          \n",
        "          optimizer.zero_grad()\n",
        "          \n",
        "          output = model(inputs)\n",
        "          loss = criterion(output, labels)\n",
        "          \n",
        "          _, preds = output.max(1)\n",
        "          total += labels.size(0)\n",
        "          correct += preds.eq(labels).sum().item()\n",
        "          \n",
        "          test_loss += loss.item()\n",
        "          test_acc = (correct / total) * 100.0\n",
        "        \n",
        "    return (test_loss / (batch_idx +1)), test_acc"
      ],
      "execution_count": 0,
      "outputs": []
    },
    {
      "cell_type": "markdown",
      "metadata": {
        "id": "rQjTF_0uil8U",
        "colab_type": "text"
      },
      "source": [
        "\n",
        "### **Define the model and hyperparameters**"
      ]
    },
    {
      "cell_type": "code",
      "metadata": {
        "id": "OJvNVRsTil3u",
        "colab_type": "code",
        "colab": {}
      },
      "source": [
        "device = torch.device(\"cuda\" if torch.cuda.is_available() else 'cpu')\n",
        "\n",
        "model = ResNet18()\n",
        "\n",
        "num_epochs = 10\n",
        "\n",
        "model = model.to(device)\n",
        "params_to_update = model.parameters()\n",
        "optimizer = optim.SGD(params_to_update, lr=0.01, momentum=0.9, weight_decay=5e-4)\n",
        "criterion = nn.CrossEntropyLoss()"
      ],
      "execution_count": 0,
      "outputs": []
    },
    {
      "cell_type": "markdown",
      "metadata": {
        "id": "0KgCthgOirtg",
        "colab_type": "text"
      },
      "source": [
        "### **Training loop**"
      ]
    },
    {
      "cell_type": "code",
      "metadata": {
        "id": "DsarKVTdil3w",
        "colab_type": "code",
        "outputId": "06c01ec5-0983-4e7e-93d2-5dc38ccc0de2",
        "colab": {
          "base_uri": "https://localhost:8080/",
          "height": 255
        }
      },
      "source": [
        "for epoch in range(num_epochs):    \n",
        "    train_loss, train_acc = train(model, trainloader, criterion, optimizer)\n",
        "    if epoch % 1 == 0:\n",
        "        test_loss, test_acc = test(model, testloader, criterion)\n",
        "        print(f'Train accuracy: {train_acc} / Test accuracy: {test_acc}')\n",
        "\n",
        "if os.path.isdir('./saved_models') == False:\n",
        "    os.makedirs('./saved_models')\n",
        "\n",
        "torch.save(model, './saved_models/resnet.pt')"
      ],
      "execution_count": 0,
      "outputs": [
        {
          "output_type": "stream",
          "text": [
            "Train accuracy: 13.25 / Test accuracy: 21.95\n",
            "Train accuracy: 25.363999999999997 / Test accuracy: 29.080000000000002\n",
            "Train accuracy: 33.822 / Test accuracy: 34.74\n",
            "Train accuracy: 40.833999999999996 / Test accuracy: 41.68\n",
            "Train accuracy: 46.152 / Test accuracy: 45.93\n",
            "Train accuracy: 50.638000000000005 / Test accuracy: 47.61\n",
            "Train accuracy: 53.181999999999995 / Test accuracy: 52.65\n",
            "Train accuracy: 56.506 / Test accuracy: 50.56\n",
            "Train accuracy: 58.504 / Test accuracy: 56.28999999999999\n",
            "Train accuracy: 61.106 / Test accuracy: 58.03\n"
          ],
          "name": "stdout"
        },
        {
          "output_type": "stream",
          "text": [
            "/usr/local/lib/python3.6/dist-packages/torch/serialization.py:360: UserWarning: Couldn't retrieve source code for container of type ResNet. It won't be checked for correctness upon loading.\n",
            "  \"type \" + obj.__name__ + \". It won't be checked \"\n",
            "/usr/local/lib/python3.6/dist-packages/torch/serialization.py:360: UserWarning: Couldn't retrieve source code for container of type BasicBlock. It won't be checked for correctness upon loading.\n",
            "  \"type \" + obj.__name__ + \". It won't be checked \"\n"
          ],
          "name": "stderr"
        }
      ]
    }
  ]
}